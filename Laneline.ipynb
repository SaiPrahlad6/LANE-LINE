{
 "metadata": {
  "language_info": {
   "codemirror_mode": {
    "name": "ipython",
    "version": 3
   },
   "file_extension": ".py",
   "mimetype": "text/x-python",
   "name": "python",
   "nbconvert_exporter": "python",
   "pygments_lexer": "ipython3",
   "version": "3.7.7-final"
  },
  "orig_nbformat": 2,
  "kernelspec": {
   "name": "python_defaultSpec_1599051895811",
   "display_name": "Python 3.7.7 64-bit ('tensorflow': conda)"
  }
 },
 "nbformat": 4,
 "nbformat_minor": 2,
 "cells": [
  {
   "cell_type": "code",
   "execution_count": 1,
   "metadata": {},
   "outputs": [],
   "source": [
    "import cv2 \n",
    "import matplotlib.pyplot as plt\n",
    "%matplotlib inline \n",
    "import numpy as np"
   ]
  },
  {
   "cell_type": "code",
   "execution_count": 2,
   "metadata": {},
   "outputs": [],
   "source": [
    "# Detecting Lane in the video \n",
    "def Lane(img):\n",
    "    gray = cv2.cvtColor(img,cv2.COLOR_BGR2GRAY)\n",
    "    #Applying guassain blur and canny \n",
    "    kernel_size = 5\n",
    "    blur_gray = cv2.GaussianBlur(gray,(kernel_size, kernel_size),0)\n",
    "    #canny Edge \n",
    "    low_threshold = 50\n",
    "    high_threshold = 150\n",
    "    edges = cv2.Canny(blur_gray,low_threshold, high_threshold)\n",
    "    #Removing all the background and picking only the centre of the frame whre we get our lane in video \n",
    "    imshape = edges.shape\n",
    "    mask = np.zeros_like(edges)\n",
    "    height=imshape[0]\n",
    "    vertices = np.array([[(0,imshape[0]),(450,320),(500,320),(imshape[1],imshape[0])]],dtype = np.int32)\n",
    "    cv2.fillPoly(mask,vertices,255)\n",
    "    masked_edges = cv2.bitwise_and(edges, mask)\n",
    "    #Variables need for hough lIne tramnsform \n",
    "#distance resolutions in pixels of the Hough grid \n",
    "    rho = 2\n",
    "#angular resolution in radians of the hough grid \n",
    "    theta = np.pi/180\n",
    "#minimum no of intersections of the grid cell \n",
    "    threshold = 15\n",
    "#minimum no of pixels making up a line \n",
    "    min_line_length = 40\n",
    "#maximum gap b/w connected lines \n",
    "    max_line_gap = 30\n",
    "#A simple Line \n",
    "    line_image = np.copy(img)*0\n",
    "#O/p Lines (as an array)\n",
    "    lines = cv2.HoughLinesP(masked_edges,rho,theta,threshold,np.array([]),min_line_length,max_line_gap)\n",
    "#Iterating over blank image to draw lines \n",
    "    for line in lines:\n",
    "        for x1,y1,x2,y2 in line:\n",
    "            cv2.line(line_image,(x1,y1),(x2,y2),(255,0,0),10)\n",
    "    lines_edges = cv2.addWeighted(img,0.8,line_image,1,0)\n",
    "    return lines_edges\n",
    "\n"
   ]
  },
  {
   "cell_type": "code",
   "execution_count": 13,
   "metadata": {},
   "outputs": [],
   "source": [
    "#Working with input video \n",
    "video = cv2.VideoCapture(r\"C:\\Users\\91967\\Music\\LANE LINE\\test_video.mp4\")"
   ]
  },
  {
   "cell_type": "code",
   "execution_count": 14,
   "metadata": {},
   "outputs": [],
   "source": [
    "while(video.isOpened()):\n",
    "    ret,frame = video.read()\n",
    "    if ret:\n",
    "        output = Lane(frame)\n",
    "        cv2.imshow('frame',output)\n",
    "        if cv2.waitKey(1) & 0xFF == ord('q'):\n",
    "            break\n",
    "video.release()\n",
    "cv2.destroyAllWindows()"
   ]
  },
  {
   "cell_type": "code",
   "execution_count": null,
   "metadata": {},
   "outputs": [],
   "source": []
  }
 ]
}